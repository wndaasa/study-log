{
 "cells": [
  {
   "cell_type": "markdown",
   "id": "8c0c41d8-a188-4c8d-a69c-6c89289c2473",
   "metadata": {},
   "source": [
    "# 1. 판다스 (Pandas)\n",
    "----------------------------------------------------------------------------------------------------------------------\n",
    "판다스는 파이썬 데이터 처리를 위한 라이브러리. 파이썬을 이용한 데이터 분석과 같은 작업에서 필수 라이브러리로 널리 사용됨\n",
    "판다스는 import 시 pd라는 명칭으로 하는 것이 관례 (ex. import pandas as pd)\n",
    "판다스는 총 3가지의 데이터 구조를 사용함\n",
    "* 시리즈 (Series)\n",
    "* 데이터프레임 (DataFrame)\n",
    "* 패널 (Panel)\n",
    "이 중 데이터프레임이 가장 많이 사용됨"
   ]
  },
  {
   "cell_type": "markdown",
   "id": "9eb1594f-e239-4a79-acf0-b03433fb2909",
   "metadata": {},
   "source": [
    "## 1) 시리즈 (Series)\n",
    "시리즈 클래스는 1차원 배열의 값(values)과 각 값에 대응 되는 인덱스(index)를 부여할 수 있는 구조를 갖고 있음"
   ]
  },
  {
   "cell_type": "code",
   "execution_count": 2,
   "id": "c62f66a8-2e12-41d0-b949-41cea72ca10a",
   "metadata": {},
   "outputs": [
    {
     "name": "stdout",
     "output_type": "stream",
     "text": [
      "시리즈 출력:\n",
      "---------------\n",
      "피자    17000\n",
      "치킨    18000\n",
      "콜라     1000\n",
      "맥주     5000\n",
      "dtype: int64\n"
     ]
    }
   ],
   "source": [
    "import pandas as pd\n",
    "\n",
    "sr = pd.Series([17000, 18000, 1000, 5000],\n",
    "               index=[\"피자\", \"치킨\", \"콜라\", \"맥주\"])\n",
    "print('시리즈 출력:')\n",
    "print('-'*15)\n",
    "print(sr)"
   ]
  },
  {
   "cell_type": "code",
   "execution_count": 3,
   "id": "f649ec04-7dd7-4cf7-89aa-8899bb860ca2",
   "metadata": {},
   "outputs": [
    {
     "name": "stdout",
     "output_type": "stream",
     "text": [
      "시리즈의 값: [17000 18000  1000  5000]\n",
      "시리즈의 인덱스: Index(['피자', '치킨', '콜라', '맥주'], dtype='object')\n"
     ]
    }
   ],
   "source": [
    "print(f'시리즈의 값: {sr.values}')\n",
    "print(f'시리즈의 인덱스: {sr.index}')"
   ]
  },
  {
   "cell_type": "markdown",
   "id": "d64588fa-5283-4041-a0f0-00239a3f8c35",
   "metadata": {},
   "source": [
    "## 2) 데이터프레임 (DataFrame)\n",
    "데이터프레임은 2차원 리스트를 매개변수로 전달함. 2차원이기 때문에 행방향 인덱스(index)와 열방향 인덱스(column)가 있음\n",
    "즉, 행과 열을 가지는 자료구조. 시리즈가 index와 values로 구성된다면, 데이터프레임은 columns까지 추가되어\n",
    "열, 인덱스, 값으로 구성됨"
   ]
  },
  {
   "cell_type": "code",
   "execution_count": 4,
   "id": "fd6e9f1c-6062-40b6-af31-2c957be6b0ba",
   "metadata": {},
   "outputs": [
    {
     "name": "stdout",
     "output_type": "stream",
     "text": [
      "데이터프레임 출력:\n",
      "------------------\n",
      "       A  B  C\n",
      "one    1  2  3\n",
      "two    4  5  6\n",
      "three  7  8  9\n"
     ]
    }
   ],
   "source": [
    "values = [[1,2,3],[4,5,6],[7,8,9]]\n",
    "index = ['one','two','three']\n",
    "columns = ['A', 'B', 'C']\n",
    "\n",
    "df = pd.DataFrame(values, index=index, columns=columns)\n",
    "\n",
    "print('데이터프레임 출력:')\n",
    "print('-'*18)\n",
    "print(df)"
   ]
  },
  {
   "cell_type": "code",
   "execution_count": 8,
   "id": "f3640688-269c-49c9-9db6-b1996139e331",
   "metadata": {},
   "outputs": [
    {
     "name": "stdout",
     "output_type": "stream",
     "text": [
      "데이터프레임의 인덱스:Index(['one', 'two', 'three'], dtype='object')\n",
      "데이터프레임의 열이름:Index(['A', 'B', 'C'], dtype='object')\n",
      "데이터프레임의 값:\n",
      "----------------------------------------------------------------------\n",
      "[[1 2 3]\n",
      " [4 5 6]\n",
      " [7 8 9]]\n"
     ]
    }
   ],
   "source": [
    "print(f'데이터프레임의 인덱스:{df.index}')\n",
    "print(f'데이터프레임의 열이름:{df.columns}')\n",
    "print(f'데이터프레임의 값:')\n",
    "print('-'*70)\n",
    "print(df.values)"
   ]
  },
  {
   "cell_type": "markdown",
   "id": "8ec2e867-65b9-4dd1-95a6-ce3c35951376",
   "metadata": {},
   "source": [
    "## 3) 데이터프레임의 생성\n",
    "데이터프레임은 리스트(List), 시리즈(Series), 딕셔너리(dict), Numpy의 ndarrays, 또 다른 데이터프레임으로부터 생성 가능"
   ]
  },
  {
   "cell_type": "code",
   "execution_count": 9,
   "id": "a516f2b3-c5b8-4eb3-ae2f-b54949d88754",
   "metadata": {},
   "outputs": [
    {
     "name": "stdout",
     "output_type": "stream",
     "text": [
      "      0         1      2\n",
      "0  1000     Steve  90.72\n",
      "1  1001     James  78.09\n",
      "2  1002    Doyeon  98.43\n",
      "3  1003      Jane  64.19\n",
      "4  1004  Pilwoong  81.30\n",
      "5  1005      Tony  99.14\n"
     ]
    }
   ],
   "source": [
    "# 리스트로 df 생성\n",
    "data = [\n",
    "    ['1000', 'Steve', 90.72],\n",
    "    ['1001', 'James', 78.09],\n",
    "    ['1002', 'Doyeon', 98.43],\n",
    "    ['1003', 'Jane', 64.19],\n",
    "    ['1004', 'Pilwoong', 81.30],\n",
    "    ['1005', 'Tony', 99.14],\n",
    "]\n",
    "\n",
    "df = pd.DataFrame(data)\n",
    "print(df)"
   ]
  },
  {
   "cell_type": "code",
   "execution_count": 10,
   "id": "e90fecd7-e3c9-42bd-a041-7d4d6bf74406",
   "metadata": {},
   "outputs": [
    {
     "name": "stdout",
     "output_type": "stream",
     "text": [
      "     학번        이름     점수\n",
      "0  1000     Steve  90.72\n",
      "1  1001     James  78.09\n",
      "2  1002    Doyeon  98.43\n",
      "3  1003      Jane  64.19\n",
      "4  1004  Pilwoong  81.30\n",
      "5  1005      Tony  99.14\n"
     ]
    }
   ],
   "source": [
    "df = pd.DataFrame(data, columns=['학번', '이름', '점수'])\n",
    "print(df)"
   ]
  },
  {
   "cell_type": "code",
   "execution_count": 11,
   "id": "746266c8-bfdf-4959-a089-e3808d54a933",
   "metadata": {},
   "outputs": [
    {
     "name": "stdout",
     "output_type": "stream",
     "text": [
      "     학번        이름     점수\n",
      "0  1000     Steve  90.72\n",
      "1  1001     James  78.09\n",
      "2  1002    Doyeon  98.43\n",
      "3  1003      Jane  64.19\n",
      "4  1004  Pilwoong  81.30\n",
      "5  1005      Tony  99.14\n"
     ]
    }
   ],
   "source": [
    "# 딕셔너리로 df 생성\n",
    "data = {\n",
    "    '학번' : ['1000', '1001', '1002', '1003', '1004', '1005'],\n",
    "    '이름' : ['Steve', 'James', 'Doyeon', 'Jane', 'Pilwoong', 'Tony'],\n",
    "    '점수' : [90.72, 78.09, 98.43, 64.19, 81.30, 99.14]\n",
    "}\n",
    "\n",
    "df = pd.DataFrame(data)\n",
    "print(df)"
   ]
  },
  {
   "cell_type": "markdown",
   "id": "38155cab-263f-4725-ad16-3b632122fc1f",
   "metadata": {},
   "source": [
    "## 4) 데이터프레임 조회하기\n",
    "아래 명령어들은 데이터프레임에서 원하는 구간만 확인하기 위한 명령어로서 유용하게 사용되는 명령어들\n",
    "* df.head(n) : 데이터의 앞부분 n개만 보기\n",
    "* df.tail(n) : 데이터의 뒷부분 n개만 보기\n",
    "* df['열이름'] : 해당되는 열을 확인"
   ]
  },
  {
   "cell_type": "code",
   "execution_count": 12,
   "id": "0d4bdeb8-85aa-46c7-8788-0683126bc7aa",
   "metadata": {},
   "outputs": [
    {
     "name": "stdout",
     "output_type": "stream",
     "text": [
      "     학번      이름     점수\n",
      "0  1000   Steve  90.72\n",
      "1  1001   James  78.09\n",
      "2  1002  Doyeon  98.43\n"
     ]
    }
   ],
   "source": [
    "# 앞 부분 3개만 보기\n",
    "print(df.head(3))"
   ]
  },
  {
   "cell_type": "code",
   "execution_count": 13,
   "id": "13d54d6b-f602-4266-8266-321049899fae",
   "metadata": {},
   "outputs": [
    {
     "name": "stdout",
     "output_type": "stream",
     "text": [
      "     학번        이름     점수\n",
      "3  1003      Jane  64.19\n",
      "4  1004  Pilwoong  81.30\n",
      "5  1005      Tony  99.14\n"
     ]
    }
   ],
   "source": [
    "# 뒷 부분 3개만 보기\n",
    "print(df.tail(3))"
   ]
  },
  {
   "cell_type": "code",
   "execution_count": 14,
   "id": "9d016dc1-9849-4d95-b5ca-7567997569ec",
   "metadata": {},
   "outputs": [
    {
     "name": "stdout",
     "output_type": "stream",
     "text": [
      "0    1000\n",
      "1    1001\n",
      "2    1002\n",
      "3    1003\n",
      "4    1004\n",
      "5    1005\n",
      "Name: 학번, dtype: object\n"
     ]
    }
   ],
   "source": [
    "# '학번'에 해당되는 열을 보기\n",
    "print(df['학번'])"
   ]
  },
  {
   "cell_type": "markdown",
   "id": "5a665563-9c2d-4e62-99c3-7dd4087e8c29",
   "metadata": {},
   "source": [
    "## 5) 외부 데이터 읽기\n",
    "판다스는 CSV, Text, Excel, SQL, HTML, JSON 등 다양한 데이터 파일을 읽고 데이터프레임 생성 가능\n",
    "예를 들어, CSV 파일을 읽을 때는 pandas.read_csv()를 통해 읽을 수 있으며, 이 경우 인덱스는 자동으로 부여됨"
   ]
  },
  {
   "cell_type": "code",
   "execution_count": 17,
   "id": "131fed5e-e62e-47e5-9ae8-3673cd87f416",
   "metadata": {},
   "outputs": [
    {
     "name": "stdout",
     "output_type": "stream",
     "text": [
      "   student id      name  score\n",
      "0        1000     Steve  90.72\n",
      "1        1001     James  78.09\n",
      "2        1002    Doyeon  98.43\n",
      "3        1003      Jane  64.19\n",
      "4        1004  Pilwoong  81.30\n",
      "5        1005      Tony  99.14\n",
      "RangeIndex(start=0, stop=6, step=1)\n"
     ]
    }
   ],
   "source": [
    "df = pd.read_csv('example.csv')\n",
    "print(df)\n",
    "print(df.index)"
   ]
  },
  {
   "cell_type": "markdown",
   "id": "bed9004e-ca26-441f-8dca-4b584590dd8a",
   "metadata": {},
   "source": [
    "# 2. 넘파이 (Numpy)\n",
    "----------------------------------------------------------------------------------------------------------------\n",
    "넘파이(Numpy)는 수치 데이터를 다루는 파이썬 패키지. Numpy의 핵심이라고 불리는 다차원 행렬 구조인 ndarray를 통해 벡터 및 행렬을 사용하는 선형 대수 계산에서 주로 사용됨. Numpy는 편의성뿐만 아니라, 속도면에서도 순수 파이썬에 비해 압도적으로 빠르다는 장점이 있으며 import 시 np로 명칭하는 것이 관례"
   ]
  },
  {
   "cell_type": "markdown",
   "id": "b4ba655c-69b9-4311-a005-92070fc99bd4",
   "metadata": {},
   "source": [
    "## 1) np.array()\n",
    "Numpy의 핵심은 ndarray임. np.array()는 리스트, 튜플, 배열로부터 ndarray를 생성함"
   ]
  },
  {
   "cell_type": "code",
   "execution_count": 18,
   "id": "47f34cd3-8ef3-45f1-896c-14718e3c3708",
   "metadata": {},
   "outputs": [
    {
     "name": "stdout",
     "output_type": "stream",
     "text": [
      "[1 2 3 4 5]\n"
     ]
    }
   ],
   "source": [
    "import numpy as np\n",
    "\n",
    "# 1차원 배열\n",
    "vec = np.array([1,2,3,4,5])\n",
    "print(vec)"
   ]
  },
  {
   "cell_type": "code",
   "execution_count": 19,
   "id": "d3d8a63b-52ac-413b-b7a4-645361ae7621",
   "metadata": {},
   "outputs": [
    {
     "name": "stdout",
     "output_type": "stream",
     "text": [
      "[[10 20 30]\n",
      " [60 70 80]]\n"
     ]
    }
   ],
   "source": [
    "# 2차원 배열 - array() 안에 하나의 리스트만 들어가야 하기 때문에 리스트에 리스트를 넣어야함 [[]] 구조.\n",
    "arr = np.array([[10,20,30], [60,70,80]])\n",
    "print(arr)"
   ]
  },
  {
   "cell_type": "code",
   "execution_count": 21,
   "id": "ba58da22-6877-48b5-9479-7ba662919d8a",
   "metadata": {},
   "outputs": [
    {
     "name": "stdout",
     "output_type": "stream",
     "text": [
      "vec의 타입:<class 'numpy.ndarray'>\n",
      "arr의 타입:<class 'numpy.ndarray'>\n"
     ]
    }
   ],
   "source": [
    "print(f'vec의 타입:{type(vec)}')\n",
    "print(f'arr의 타입:{type(arr)}')"
   ]
  },
  {
   "cell_type": "markdown",
   "id": "f2b2f4c0-daf4-47a5-919b-da197be2ac4b",
   "metadata": {},
   "source": [
    "두 배열 모두 numpy.ndarray로 나오는 모습. Numpy 배열에는 축의 개수(ndim)와 크기(shape)라는 개념이 존재하는데, 배열의 크기를 정확히 숙지하는 것은 딥러닝에서 매우 중요"
   ]
  },
  {
   "cell_type": "code",
   "execution_count": 22,
   "id": "7e2785ee-38cd-4079-9a4c-37d9bbf44654",
   "metadata": {},
   "outputs": [
    {
     "name": "stdout",
     "output_type": "stream",
     "text": [
      "vec의 축의 개수:1\n",
      "vec의 크기:(5,)\n"
     ]
    }
   ],
   "source": [
    "print(f'vec의 축의 개수:{vec.ndim}') # 축의 개수 출력\n",
    "print(f'vec의 크기:{vec.shape}') # 크기 출력"
   ]
  },
  {
   "cell_type": "code",
   "execution_count": 32,
   "id": "121f331e-f419-43f2-a154-a6abdca97431",
   "metadata": {},
   "outputs": [
    {
     "name": "stdout",
     "output_type": "stream",
     "text": [
      "arr의 축의 개수:2\n",
      "arr의 크기:(2, 3)\n"
     ]
    }
   ],
   "source": [
    "print(f'arr의 축의 개수:{arr.ndim}') # 축의 개수 출력\n",
    "print(f'arr의 크기:{arr.shape}') # 크기 출력"
   ]
  },
  {
   "cell_type": "markdown",
   "id": "268febd5-2149-4e0a-9cfe-29a9d169bd34",
   "metadata": {},
   "source": [
    "## 2) ndarray의 초기화"
   ]
  },
  {
   "cell_type": "code",
   "execution_count": 24,
   "id": "bf62d749-5f18-4583-bd35-a218122db113",
   "metadata": {},
   "outputs": [
    {
     "name": "stdout",
     "output_type": "stream",
     "text": [
      "[[0. 0. 0.]\n",
      " [0. 0. 0.]]\n"
     ]
    }
   ],
   "source": [
    "# 모든 값이 0인 2x3 배열 생성\n",
    "zero_arr = np.zeros((2,3))\n",
    "print(zero_arr)"
   ]
  },
  {
   "cell_type": "code",
   "execution_count": 26,
   "id": "988cd487-b056-42a6-b58e-c3ef1c64feb0",
   "metadata": {},
   "outputs": [
    {
     "name": "stdout",
     "output_type": "stream",
     "text": [
      "[[1. 1. 1.]\n",
      " [1. 1. 1.]]\n"
     ]
    }
   ],
   "source": [
    "# 모든 값이 1인 2x3 배열 생성\n",
    "one_arr = np.ones((2,3))\n",
    "print(one_arr)"
   ]
  },
  {
   "cell_type": "code",
   "execution_count": 29,
   "id": "8e7f040f-518b-4d63-ad30-010882ac0869",
   "metadata": {},
   "outputs": [
    {
     "name": "stdout",
     "output_type": "stream",
     "text": [
      "[[7 7 7]\n",
      " [7 7 7]]\n"
     ]
    }
   ],
   "source": [
    "# 모든 값이 특정 상수인 배열 생성 \n",
    "same_value_arr = np.full((2,3), 7)\n",
    "print(same_value_arr)"
   ]
  },
  {
   "cell_type": "code",
   "execution_count": 30,
   "id": "ed4d9fdf-ce52-4cc7-ac4d-534c105dc0c2",
   "metadata": {},
   "outputs": [
    {
     "name": "stdout",
     "output_type": "stream",
     "text": [
      "[[1. 0. 0.]\n",
      " [0. 1. 0.]\n",
      " [0. 0. 1.]]\n"
     ]
    }
   ],
   "source": [
    "# 대각선이 1이고 나머지 값이 0인 2차원 배열 생성\n",
    "eye_arr = np.eye(3)\n",
    "print(eye_arr)"
   ]
  },
  {
   "cell_type": "code",
   "execution_count": 31,
   "id": "213274b5-3eed-4fb1-8a42-6fae78ba15f1",
   "metadata": {},
   "outputs": [
    {
     "name": "stdout",
     "output_type": "stream",
     "text": [
      "[[0.93721833 0.27733753]\n",
      " [0.25636238 0.48712631]]\n"
     ]
    }
   ],
   "source": [
    "# 임의의 값으로 채워진 배열 생성\n",
    "random_arr = np.random.random((2,2)) # 임의의 값으로 채워진 배열\n",
    "print(random_arr)"
   ]
  },
  {
   "cell_type": "markdown",
   "id": "5e4c7274-35fb-494b-9bd8-ee4141f5abbe",
   "metadata": {},
   "source": [
    "## 3) np.arange()\n",
    "np.arange(n)은 0부터 n-1까지의 값을 가지는 배열을 생성함"
   ]
  },
  {
   "cell_type": "code",
   "execution_count": 33,
   "id": "c796cecf-3b23-4dc6-9d03-30c888988c16",
   "metadata": {},
   "outputs": [
    {
     "name": "stdout",
     "output_type": "stream",
     "text": [
      "[0 1 2 3 4 5 6 7 8 9]\n"
     ]
    }
   ],
   "source": [
    "# 0부터 9까지\n",
    "range_vec = np.arange(10)\n",
    "print(range_vec)"
   ]
  },
  {
   "cell_type": "code",
   "execution_count": 34,
   "id": "8cb15da0-bb9f-4dea-8954-a1c602b81f44",
   "metadata": {},
   "outputs": [
    {
     "name": "stdout",
     "output_type": "stream",
     "text": [
      "[1 3 5 7 9]\n"
     ]
    }
   ],
   "source": [
    "# 1부터 9까지 +2씩 증가\n",
    "n = 2\n",
    "range_n_step_vec = np.arange(1, 10, n)\n",
    "print(range_n_step_vec)"
   ]
  },
  {
   "cell_type": "markdown",
   "id": "ddb14ad2-e23b-42f5-8d61-cff8e8412022",
   "metadata": {},
   "source": [
    "## 4) np.reshape()\n",
    "np.reshape()는 내부 데이터는 변경하지 않으면서 배열의 구조를 바꾸는 함수"
   ]
  },
  {
   "cell_type": "code",
   "execution_count": 35,
   "id": "52b6d499-9f50-4257-8093-7dd06d837493",
   "metadata": {},
   "outputs": [
    {
     "name": "stdout",
     "output_type": "stream",
     "text": [
      "[[ 0  1  2  3  4  5]\n",
      " [ 6  7  8  9 10 11]\n",
      " [12 13 14 15 16 17]\n",
      " [18 19 20 21 22 23]\n",
      " [24 25 26 27 28 29]]\n"
     ]
    }
   ],
   "source": [
    "reshape_arr = np.array(np.arange(30)).reshape((5,6))\n",
    "print(reshape_arr)"
   ]
  },
  {
   "cell_type": "markdown",
   "id": "28872123-70e3-4ac9-a3d6-705bf41c2723",
   "metadata": {},
   "source": [
    "## 5) Numpy 슬라이싱\n",
    "ndarray를 통해 만든 다차원 배열은 파이썬의 자료구조인 리스트처럼 슬라이싱(slicing) 기능을 지원함. 슬라이싱 기능을 사용하여 특정 행이나 열들의 원소들로 접근 가능"
   ]
  },
  {
   "cell_type": "code",
   "execution_count": 36,
   "id": "ce25fe69-b27d-4483-b382-2810e1f233d7",
   "metadata": {},
   "outputs": [
    {
     "name": "stdout",
     "output_type": "stream",
     "text": [
      "[[1 2 3]\n",
      " [4 5 6]]\n"
     ]
    }
   ],
   "source": [
    "arr = np.array([[1,2,3], [4,5,6]])\n",
    "print(arr)"
   ]
  },
  {
   "cell_type": "code",
   "execution_count": 37,
   "id": "00cbca83-0084-4268-b88f-b45f503157c1",
   "metadata": {},
   "outputs": [
    {
     "name": "stdout",
     "output_type": "stream",
     "text": [
      "[1 2 3]\n"
     ]
    }
   ],
   "source": [
    "# 첫 번째 행\n",
    "slicing_arr = arr[0, :]\n",
    "print(slicing_arr)"
   ]
  },
  {
   "cell_type": "code",
   "execution_count": 38,
   "id": "7c4c0a5e-a043-4567-b275-258dc9288f9d",
   "metadata": {},
   "outputs": [
    {
     "name": "stdout",
     "output_type": "stream",
     "text": [
      "[2 5]\n"
     ]
    }
   ],
   "source": [
    "# 두 번째 열\n",
    "slicing_arr = arr[:, 1]\n",
    "print(slicing_arr)"
   ]
  },
  {
   "cell_type": "markdown",
   "id": "e02d3806-3cab-4c88-9597-a9b94a36ce44",
   "metadata": {},
   "source": [
    "## 6) Numpy 정수 인덱싱 (Integer Indexing)\n",
    "슬라이싱을 사용하면 배열로부터 부분 배열을 추출할 수 있지만, 연속적이지 않은 원소로 배열을 만들 경우, 슬라이싱으로는 만들 수 없음. 예를 들어서, 2행 2열의 원소와 5행 5열의 원소를 뽑아서 하나의 배열로 만들고자 하는 경우. 이런 경우에는 인덱싱을 사용하여 배열을 구성할 수 있음"
   ]
  },
  {
   "cell_type": "code",
   "execution_count": 39,
   "id": "1439d818-c187-4615-a91f-27da496ad040",
   "metadata": {},
   "outputs": [
    {
     "name": "stdout",
     "output_type": "stream",
     "text": [
      "[[1 2]\n",
      " [4 5]\n",
      " [7 8]]\n"
     ]
    }
   ],
   "source": [
    "arr = np.array([[1,2],[4,5],[7,8]])\n",
    "print(arr)"
   ]
  },
  {
   "cell_type": "code",
   "execution_count": 40,
   "id": "b08063a1-9f27-4bd9-931e-3f35754ea481",
   "metadata": {},
   "outputs": [
    {
     "name": "stdout",
     "output_type": "stream",
     "text": [
      "4\n"
     ]
    }
   ],
   "source": [
    "# 1행 0열의 원소 \n",
    "# => 0부터 카운트 하기 때문에 두 번째 행 첫 번째 열의 원소\n",
    "print(arr[1, 0])"
   ]
  },
  {
   "cell_type": "code",
   "execution_count": 41,
   "id": "c43aa56c-707b-4244-b493-46e9ff54adbc",
   "metadata": {},
   "outputs": [
    {
     "name": "stdout",
     "output_type": "stream",
     "text": [
      "[7 5]\n"
     ]
    }
   ],
   "source": [
    "# arr[[2행, 1행], [0열, 1열]]\n",
    "# 각 행과 열의 쌍을 매칭하면 2행 0열, 1행 1열의 두 개의 원소\n",
    "indexing_arr = arr[[2,1],[0,1]]\n",
    "print(indexing_arr)"
   ]
  },
  {
   "cell_type": "markdown",
   "id": "85f199a2-dde2-4d91-929d-6dee7f18c071",
   "metadata": {},
   "source": [
    "## 7) Numpy 연산\n",
    "Numpy를 사용하면 배열 간 연산을 손 쉽게 할 수 있음. 덧셈, 뺄셈, 곱셈, 나눗셈을 위해서는 연산자 +, -, *, /를 사용할 수 있으며 또는, np.add(), np.subtract(), np.multiply(), np.divide()를 사용할 수도 있음"
   ]
  },
  {
   "cell_type": "code",
   "execution_count": 42,
   "id": "06ee4c57-476d-4642-8713-0bcfb30a1514",
   "metadata": {},
   "outputs": [],
   "source": [
    "x = np.array([1,2,3])\n",
    "y = np.array([4,5,6])"
   ]
  },
  {
   "cell_type": "code",
   "execution_count": 43,
   "id": "b6a9eef0-b348-455d-acf1-c3245731bd86",
   "metadata": {},
   "outputs": [
    {
     "name": "stdout",
     "output_type": "stream",
     "text": [
      "[5 7 9]\n"
     ]
    }
   ],
   "source": [
    "# result = np.add(x, y)와 동일\n",
    "result = x + y\n",
    "print(result)"
   ]
  },
  {
   "cell_type": "code",
   "execution_count": 44,
   "id": "22d1c0d3-6b70-418a-911b-b99aa36aecfe",
   "metadata": {},
   "outputs": [
    {
     "name": "stdout",
     "output_type": "stream",
     "text": [
      "[-3 -3 -3]\n"
     ]
    }
   ],
   "source": [
    "# result = np.subtract(x, y)와 동일.\n",
    "result = x - y\n",
    "print(result)"
   ]
  },
  {
   "cell_type": "code",
   "execution_count": 45,
   "id": "b6a2df29-d46a-4a84-b735-3a21ef3c7543",
   "metadata": {},
   "outputs": [
    {
     "name": "stdout",
     "output_type": "stream",
     "text": [
      "[-3 -6 -9]\n"
     ]
    }
   ],
   "source": [
    "# result = np.multiply(result, x)와 동일.\n",
    "result = result * x\n",
    "print(result)"
   ]
  },
  {
   "cell_type": "code",
   "execution_count": 46,
   "id": "c11201ce-4f6a-4704-ab58-8c79625e7fc9",
   "metadata": {},
   "outputs": [
    {
     "name": "stdout",
     "output_type": "stream",
     "text": [
      "[-3. -3. -3.]\n"
     ]
    }
   ],
   "source": [
    "# result = np.divide(result, x)와 동일.\n",
    "result = result / x\n",
    "print(result)"
   ]
  },
  {
   "cell_type": "markdown",
   "id": "870bfe17-93d8-410c-ba13-4e32110caf8b",
   "metadata": {},
   "source": [
    "위에서 한 곱셈 연산은 요소 별 곱셈임. Numpy에서 벡터와 행렬곱 또는 행렬끼리의 곱을 위해서는 dot()을 사용해야함"
   ]
  },
  {
   "cell_type": "code",
   "execution_count": 47,
   "id": "5c2815ce-ac88-4ebe-b4f0-c4c59a534566",
   "metadata": {},
   "outputs": [
    {
     "name": "stdout",
     "output_type": "stream",
     "text": [
      "[[19 22]\n",
      " [43 50]]\n"
     ]
    }
   ],
   "source": [
    "mat1 = np.array([[1,2],[3,4]])\n",
    "mat2 = np.array([[5,6],[7,8]])\n",
    "mat3 = np.dot(mat1, mat2)\n",
    "print(mat3)"
   ]
  },
  {
   "cell_type": "markdown",
   "id": "1890ca83-ea7f-4122-a27e-953cfcbe1d51",
   "metadata": {},
   "source": [
    "# 3. 맷플롯립 (Matplotlib)\n",
    "--------------------------------------------------------------------------------------------------------------------\n",
    "맷플롯립은 데이터를 차트나 플롯으로 시각화 하는 패키지임. 데이터 분석에서 Matplotlib은 데이터 분석 이전에 데이터 이해를 위한 시각화 혹은, 데이터 분석 후에 결과를 시각화 하기 위해서 사용됨\n",
    "주요 모듈은 pyplot이며, plt로 import 하는 것이 관례임"
   ]
  },
  {
   "cell_type": "markdown",
   "id": "de170b4e-03a2-4cf1-8ec3-f3c4af9b4a62",
   "metadata": {},
   "source": [
    "## 1) 라인 플롯 그리기\n",
    "plot()은 라인 플롯을 그리는 기능을 수행함. plot()에 x축과 y축의 값을 기재하고 그림을 표시하는 show()를 통해서 시각화 가능. 그래프에는 title('제목')을 사용하여 제목을 지정할 수도 있음. \n",
    "\n",
    "※ 주피터 노트북에서는 show()를 사용하지 않더라도 그래프가 자동으로 렌더링 되므로 그래프가 시각화 되지만 다른 환경에서는 show()를 사용해야함"
   ]
  },
  {
   "cell_type": "code",
   "execution_count": 49,
   "id": "17ba9065-7b83-495b-8561-04fdee983f6b",
   "metadata": {},
   "outputs": [
    {
     "data": {
      "image/png": "[encoded data removed]",
      "text/plain": [
       "<Figure size 640x480 with 1 Axes>"
      ]
     },
     "metadata": {},
     "output_type": "display_data"
    }
   ],
   "source": [
    "import matplotlib.pyplot as plt\n",
    "\n",
    "plt.title('test')\n",
    "plt.plot([1,2,3,4],[2,4,8,6])\n",
    "plt.show()"
   ]
  },
  {
   "cell_type": "markdown",
   "id": "63311928-3919-47e1-8e3a-fe086a2a8247",
   "metadata": {},
   "source": [
    "## 2) 축 레이블 삽입하기\n",
    "x축과 y축 각각에 축 이름을 삽입하고 싶다면 xlabel('축이름')과 ylabel('축이름')을 사용하면 됨"
   ]
  },
  {
   "cell_type": "code",
   "execution_count": 50,
   "id": "74ae11c9-56c7-408f-948f-ef8e86a9cfb7",
   "metadata": {},
   "outputs": [
    {
     "data": {
      "image/png": "[encoded data removed]",
      "text/plain": [
       "<Figure size 640x480 with 1 Axes>"
      ]
     },
     "metadata": {},
     "output_type": "display_data"
    }
   ],
   "source": [
    "plt.title('test')\n",
    "plt.plot([1,2,3,4],[2,4,8,6])\n",
    "plt.xlabel('hours')\n",
    "plt.ylabel('score')\n",
    "plt.show()"
   ]
  },
  {
   "cell_type": "markdown",
   "id": "61af9ef2-c0b1-4f4f-825d-39039bfd1f52",
   "metadata": {},
   "source": [
    "## 3) 라인 추가와 범례 삽입\n",
    "다수의 plot()을 하나의 그래프에 나타낼 수 있음. 여러개의 라인 플롯을 동시에 사용할 경우에는, 각 선이 어떤 데이터를 나타내는지를 위해 범례(legend)를 사용할 수 있음"
   ]
  },
  {
   "cell_type": "code",
   "execution_count": null,
   "id": "f6783f35-b5b8-4a57-b8b7-2fe3ebb64fe8",
   "metadata": {},
   "outputs": [],
   "source": [
    "plt.title('test')\n",
    "plt.plot([1, 2, 3, 4], [2, 4, 8, 6])\n",
    "plt.plt([1.5, 2.5, 3.5, 4.5], [3, 5, 8, 10])"
   ]
  }
 ],
 "metadata": {
  "kernelspec": {
   "display_name": "Python 3 (ipykernel)",
   "language": "python",
   "name": "python3"
  },
  "language_info": {
   "codemirror_mode": {
    "name": "ipython",
    "version": 3
   },
   "file_extension": ".py",
   "mimetype": "text/x-python",
   "name": "python",
   "nbconvert_exporter": "python",
   "pygments_lexer": "ipython3",
   "version": "3.10.0"
  }
 },
 "nbformat": 4,
 "nbformat_minor": 5
}
